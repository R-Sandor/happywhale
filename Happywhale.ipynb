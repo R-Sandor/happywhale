{
 "cells": [
  {
   "cell_type": "markdown",
   "id": "fcd6ae9e-e1a9-43cd-8371-3c3292b81125",
   "metadata": {},
   "source": [
    "# Happywhale - CS795 Project 1\n",
    "***\n",
    "Old Dominion University\n",
    "\n",
    "2/26/2022\n",
    "#### Authors: Raphael J. Sandor, Xiangrui Xu\n"
   ]
  },
  {
   "cell_type": "markdown",
   "id": "5d468250-5e0e-4499-bba6-4212c43e6a51",
   "metadata": {},
   "source": [
    "# Imports"
   ]
  },
  {
   "cell_type": "code",
   "execution_count": null,
   "id": "a9f01fec-43b7-4262-a7ce-31d97fafab07",
   "metadata": {},
   "outputs": [],
   "source": [
    "import os\n",
    "import keras\n",
    "import glob\n",
    "import numpy as np\n",
    "import pandas as pd\n",
    "import matplotlib.pyplot as plt\n",
    "import matplotlib\n",
    "from keras.optimizers import adam_v2\n",
    "import matplotlib.pyplot as plt\n",
    "import seaborn as sns\n",
    "import numpy as np\n",
    "from scipy.stats import norm\n",
    "from sklearn.preprocessing import StandardScaler\n",
    "from scipy import stats\n",
    "from sklearn.model_selection import cross_val_score \n",
    "from sklearn.model_selection import train_test_split\n",
    "import PIL\n",
    "from PIL import Image\n",
    "import warnings\n",
    "import pathlib\n",
    "import tensorflow as tf\n",
    "from pathlib import Path\n",
    "warnings.filterwarnings('ignore')\n",
    "%matplotlib inline"
   ]
  },
  {
   "cell_type": "markdown",
   "id": "d08f693e-5c1d-4dfc-9350-5044e7cc1137",
   "metadata": {},
   "source": [
    "# Setting Up the Data"
   ]
  },
  {
   "cell_type": "code",
   "execution_count": null,
   "id": "4e2f14b1-dca0-451a-948c-8900e42a8544",
   "metadata": {},
   "outputs": [],
   "source": [
    "train_df = pd.read_csv('train.csv')\n",
    "# Use sample submission to gather which images need predictions made\n",
    "test_df = pd.read_csv('sample_submission.csv')\n",
    "total_image_df =  pd.concat([train_df['image'], test_df['image']])\n",
    "TRAIN_IMAGES_DIR = Path(\"./train_images\")\n",
    "TEST_IMAGES_DIR = Path(\"./test_images\")\n",
    "train_images = list(TRAIN_IMAGES_DIR.glob('./*'))"
   ]
  },
  {
   "cell_type": "markdown",
   "id": "8fc6129e-846a-430a-b701-0a7967ee2ecc",
   "metadata": {
    "tags": []
   },
   "source": [
    "# Exploring the dataset"
   ]
  },
  {
   "cell_type": "code",
   "execution_count": null,
   "id": "7602d7c8-7457-4a2c-9147-86f6ff0bf1df",
   "metadata": {},
   "outputs": [],
   "source": [
    "img = PIL.Image.open(str(train_images[1000]))\n",
    "plt.figure(figsize = (10,10))\n",
    "imgplot = plt.imshow(img)\n",
    "plt.axis('off')\n",
    "plt.show()"
   ]
  },
  {
   "cell_type": "code",
   "execution_count": null,
   "id": "14681e57-f1fe-4bb7-a2c4-c7864689a60c",
   "metadata": {},
   "outputs": [],
   "source": [
    "trainImgCnt = len(list(TRAIN_IMAGES_DIR.glob('*.jpg')))\n",
    "testImgCnt = len(list(TEST_IMAGES_DIR.glob('*.jpg')))\n",
    "print(\"Train image count: \" + str(trainImgCnt))\n",
    "print(\"Test image count: \" + str(testImgCnt))"
   ]
  },
  {
   "cell_type": "code",
   "execution_count": null,
   "id": "413eab3e-cb02-4323-9120-a22c71ee6f31",
   "metadata": {},
   "outputs": [],
   "source": [
    "train_df.info()"
   ]
  },
  {
   "cell_type": "code",
   "execution_count": null,
   "id": "adb76253-3592-4223-98d4-7345164a3f76",
   "metadata": {},
   "outputs": [],
   "source": [
    "train_df.head()"
   ]
  },
  {
   "cell_type": "markdown",
   "id": "266ed38a-67b2-449e-a7fa-ac2dc765e6d7",
   "metadata": {
    "tags": []
   },
   "source": [
    "## List of unique species "
   ]
  },
  {
   "cell_type": "code",
   "execution_count": null,
   "id": "adb85b8b-13e6-4d9e-b1c8-354d650173da",
   "metadata": {},
   "outputs": [],
   "source": [
    "species = train_df['species']"
   ]
  },
  {
   "cell_type": "code",
   "execution_count": null,
   "id": "89afb87d-ef07-4558-b3c6-97340a0dc457",
   "metadata": {},
   "outputs": [],
   "source": [
    "train_df.describe()"
   ]
  },
  {
   "cell_type": "code",
   "execution_count": null,
   "id": "da58f557-d3d3-4d48-9e27-ce6cfd7c162e",
   "metadata": {},
   "outputs": [],
   "source": [
    "unique_species = pd.unique(species) # returns numpy.ndarray \n",
    "print(unique_species)"
   ]
  },
  {
   "cell_type": "markdown",
   "id": "719eb393-2192-4ef7-bad5-288cf347f2b6",
   "metadata": {
    "tags": []
   },
   "source": [
    "# Whales and Dolphins"
   ]
  },
  {
   "cell_type": "code",
   "execution_count": null,
   "id": "f839d353-a3e4-4d9c-b9d8-9f0b8c2eced2",
   "metadata": {},
   "outputs": [],
   "source": [
    "# Note that the dataset includes some typo mistakes mistakes.\n",
    "train_df['species'].replace('bottlenose_dolpin', 'bottlenose_dolphin', inplace=True)\n",
    "train_df['species'].replace('kiler_whale', 'killer_whale', inplace=True)\n",
    "train_df['species'][(train_df['species'] ==\"pilot_whale\") | (train_df['species'] ==\"globis\" )]='short_finned_pilot_whale'\n",
    "print(\"Total species after :\",len(train_df.species.unique()))\n",
    "\n",
    "whales = ['humpback_whale','beluga','minke_whale', 'fin_whale', 'blue_whale', 'gray_whale',\n",
    "          'southern_right_whale','sei_whale', 'cuviers_beaked_whale', 'brydes_whale']\n",
    "\n",
    "dolphins = ['melon_headed_whale','false_killer_whale', 'bottlenose_dolphin', 'common_dolphin', \n",
    "            'dusky_dolphin', 'killer_whale', 'long_finned_pilot_whale', 'spinner_dolphin', \n",
    "            'spotted_dolphin','commersons_dolphin', 'white_sided_dolphin', 'short_finned_pilot_whale',\n",
    "            'rough_toothed_dolphin', 'pantropic_spotted_dolphin', 'frasiers_dolphin', 'pygmy_killer_whale']"
   ]
  },
  {
   "cell_type": "code",
   "execution_count": null,
   "id": "8f4ad39a-2d4f-4107-9aa7-8849025fbcb2",
   "metadata": {},
   "outputs": [],
   "source": [
    "whale_df = train_df[train_df['species'].str.contains('|'.join(whales))]\n",
    "dolphin_df = train_df[train_df['species'].str.contains('|'.join(dolphins))]"
   ]
  },
  {
   "cell_type": "code",
   "execution_count": null,
   "id": "ff793f9d-2715-40da-8975-06362d74425c",
   "metadata": {},
   "outputs": [],
   "source": [
    "## lets check speiceis in visually\n",
    "# Nikhil Jothi Prakash \n",
    "# Works cited: https://www.kaggle.com/nikhiljothiprakash/happy-whale-and-dolphin\n",
    "plt.figure(figsize=(16, 12))\n",
    "plt.rcParams[\"font.size\"] = 16\n",
    "plt.barh(train_df[\"species\"].value_counts().sort_values(ascending=True).index,train_df[\"species\"].value_counts().sort_values(ascending=True),tick_label = train_df[\"species\"].value_counts().sort_values(ascending=True).index)\n",
    "plt.show()"
   ]
  },
  {
   "cell_type": "code",
   "execution_count": null,
   "id": "cc470122-e255-44a6-8ef9-acebc87d8695",
   "metadata": {},
   "outputs": [],
   "source": [
    "print(whale_df)\n",
    "print(dolphin_df)"
   ]
  },
  {
   "cell_type": "code",
   "execution_count": null,
   "id": "867e8d19-f335-4d39-829b-eb81dc9f79c1",
   "metadata": {},
   "outputs": [],
   "source": [
    "print(\"Species of whales: \" + str(len(whales)))\n",
    "print(\"Species of dolphins: \" + str(len(dolphins)))"
   ]
  },
  {
   "cell_type": "code",
   "execution_count": null,
   "id": "028391ec-4930-4ec0-b8c9-c3b211ef89e0",
   "metadata": {},
   "outputs": [],
   "source": [
    "print(\"Number of whales: \" + str(whale_df.shape[0]))\n",
    "print(\"Number of dolphins: \" + str(dolphin_df.shape[0]))"
   ]
  },
  {
   "cell_type": "code",
   "execution_count": null,
   "id": "6f384705-2c22-445c-9bd5-d321af874b02",
   "metadata": {},
   "outputs": [],
   "source": [
    "# now lets classify on whales.\n",
    "print(train_df.species.isin(whale_df.species).astype(int))\n",
    "train_df['isWhale'] = train_df.species.isin(whale_df.species).astype(int)\n",
    "train_data = []"
   ]
  },
  {
   "cell_type": "code",
   "execution_count": null,
   "id": "a6af9ef9-f47c-496b-ad40-9a096c049d0a",
   "metadata": {},
   "outputs": [],
   "source": [
    "train_df.describe()"
   ]
  },
  {
   "cell_type": "code",
   "execution_count": null,
   "id": "3b35fcc6-8b07-487f-be05-c9d0f7438658",
   "metadata": {},
   "outputs": [],
   "source": [
    "# Borrowed from \n",
    "# https://www.kaggle.com/samir95/species-classification\n",
    "_, dev, _ , _ = train_test_split(train_df, train_df['isWhale'], test_size=0.1)\n",
    "\n",
    "dev.shape"
   ]
  },
  {
   "cell_type": "markdown",
   "id": "0258ae22-c582-4f8a-9bd1-4f62d420cab0",
   "metadata": {},
   "source": [
    "# Resize images\n",
    "See if image resizing is effective"
   ]
  },
  {
   "cell_type": "code",
   "execution_count": null,
   "id": "d1e739dd-6b96-47c0-8125-37ec84d93c57",
   "metadata": {},
   "outputs": [],
   "source": [
    "import fastai\n",
    "from fastai.vision.all import *\n",
    "from fastai.basics import *\n",
    "from fastai.data.all import *\n",
    "\n",
    "from fastai.vision.core import *\n",
    "import fastbook\n",
    "fastbook.setup_book() \n",
    "pd.options.mode.chained_assignment = None  # default='warn'\n",
    "resizedPath = Path(\"train_images256_256\")\n",
    "dev['imagePath'] = dev['image'].apply(lambda f: TRAIN_IMAGES_DIR/f)\n",
    "\n",
    "dblock = DataBlock(blocks=(ImageBlock, CategoryBlock), \n",
    "                   get_x=ColReader('imagePath'),\n",
    "                   get_y=lambda r: r['isWhale'],\n",
    "                   splitter=RandomSplitter(seed=42),\n",
    "                   item_tfms=Resize(460),\n",
    "                   batch_tfms=aug_transforms(size=224))\n",
    "#dblock.summary(dev)\n",
    "dsets = dblock.datasets(dev)\n",
    "dls = dblock.dataloaders(dev)"
   ]
  },
  {
   "cell_type": "markdown",
   "id": "782d2fd7-db9a-4098-9774-b8e97749fdde",
   "metadata": {},
   "source": [
    "# Start CNN Learning"
   ]
  },
  {
   "cell_type": "code",
   "execution_count": null,
   "id": "4a6f805d-31b5-440d-999f-a820d8bc2b0c",
   "metadata": {},
   "outputs": [],
   "source": [
    "dls.show_batch(max_n=20)\n",
    "learn = cnn_learner(dls, resnet34, metrics=[accuracy, error_rate])\n",
    "learn.lr_find()"
   ]
  },
  {
   "cell_type": "markdown",
   "id": "0c863b64-275e-49df-b6e8-3a11a103a7e5",
   "metadata": {},
   "source": [
    "# Fine Tune and Improve"
   ]
  },
  {
   "cell_type": "code",
   "execution_count": null,
   "id": "580f35fa-0fe2-42d3-abe6-435184fdd2ae",
   "metadata": {},
   "outputs": [],
   "source": [
    "learn.fine_tune(2, base_lr=3e-3)"
   ]
  },
  {
   "cell_type": "code",
   "execution_count": null,
   "id": "d86f9851-9e08-4cfc-81ee-6aca0b80574e",
   "metadata": {},
   "outputs": [],
   "source": [
    "learn.freeze()\n",
    "learn.fit_one_cycle(3, 3e-3)"
   ]
  },
  {
   "cell_type": "code",
   "execution_count": null,
   "id": "ebec8582-6903-4f67-aed0-2602a4999d05",
   "metadata": {},
   "outputs": [],
   "source": [
    "learn.unfreeze()\n",
    "learn.lr_find()"
   ]
  },
  {
   "cell_type": "code",
   "execution_count": null,
   "id": "8f5776dc-3d9e-4822-83a6-98a5d32db28c",
   "metadata": {},
   "outputs": [],
   "source": [
    "learn.fit_one_cycle(6, lr_max=slice(1e-6, 1e-4))"
   ]
  },
  {
   "cell_type": "markdown",
   "id": "7180309b-b5fc-4312-9311-57834a5836ee",
   "metadata": {},
   "source": [
    "# Classification based on Individual \n",
    "#### using research by Andre C Ferreira as a starting point on this venture\n",
    "##### https://github.com/AndreCFerreira/Bird_individualID/blob/master/Train_CNN/TRAIN_CNN.ipynb"
   ]
  },
  {
   "cell_type": "markdown",
   "id": "071cf40a-df5e-47ad-a719-c38b6ac94d59",
   "metadata": {},
   "source": [
    "Lets explore how many individuals we are working with in this"
   ]
  },
  {
   "cell_type": "code",
   "execution_count": null,
   "id": "b3ba90dc-dcc9-40e6-adee-a16ee5b2c221",
   "metadata": {},
   "outputs": [],
   "source": [
    "# Works cited:\n",
    "# https://www.kaggle.com/nikhiljothiprakash/happy-whale-and-dolphin/notebook\n",
    "concat_df = pd.concat([train_df['image'], test_df['image']])\n",
    "concat_df.head()\n"
   ]
  },
  {
   "cell_type": "code",
   "execution_count": null,
   "id": "42e18b9c-7fe0-40b4-87d3-3bb10db5eff5",
   "metadata": {},
   "outputs": [],
   "source": [
    "## MAY NOT NEED THIS WILL REMOVE OTHERWISE\n",
    "\n",
    "# Works cited https://www.kaggle.com/noirchannel/myeda\n",
    "labels = train_df[\"individual_id\"].unique()\n",
    "labels = {ind: idx for idx, ind in enumerate(labels)}"
   ]
  }
 ],
 "metadata": {
  "kernelspec": {
   "display_name": "Python 3 (ipykernel)",
   "language": "python",
   "name": "python3"
  },
  "language_info": {
   "codemirror_mode": {
    "name": "ipython",
    "version": 3
   },
   "file_extension": ".py",
   "mimetype": "text/x-python",
   "name": "python",
   "nbconvert_exporter": "python",
   "pygments_lexer": "ipython3",
   "version": "3.9.7"
  }
 },
 "nbformat": 4,
 "nbformat_minor": 5
}
