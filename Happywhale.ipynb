{
 "cells": [
  {
   "cell_type": "markdown",
   "id": "fcd6ae9e-e1a9-43cd-8371-3c3292b81125",
   "metadata": {},
   "source": [
    "# Happywhale - CS795 Project 1\n",
    "***\n",
    "Old Dominion University\n",
    "\n",
    "2/26/2022\n",
    "#### Authors: Raphael J. Sandor, Xiangrui Xu\n"
   ]
  },
  {
   "cell_type": "markdown",
   "id": "5d468250-5e0e-4499-bba6-4212c43e6a51",
   "metadata": {},
   "source": [
    "# Imports"
   ]
  },
  {
   "cell_type": "code",
   "execution_count": 3,
   "id": "a9f01fec-43b7-4262-a7ce-31d97fafab07",
   "metadata": {},
   "outputs": [],
   "source": [
    "import pandas as pd\n",
    "import matplotlib.pyplot as plt\n",
    "import seaborn as sns\n",
    "import numpy as np\n",
    "from scipy.stats import norm\n",
    "from sklearn.preprocessing import StandardScaler\n",
    "from scipy import stats\n",
    "from sklearn.model_selection import cross_val_score \n",
    "from sklearn.model_selection import train_test_split\n",
    "import warnings\n",
    "warnings.filterwarnings('ignore')\n",
    "%matplotlib inline"
   ]
  },
  {
   "cell_type": "code",
   "execution_count": 4,
   "id": "4e2f14b1-dca0-451a-948c-8900e42a8544",
   "metadata": {},
   "outputs": [],
   "source": [
    "train_df = pd.read_csv('train.csv')\n",
    "TEST_IMAGES = \"test_images\"\n",
    "TRAIN_IMAGES = \"train_images\""
   ]
  },
  {
   "cell_type": "markdown",
   "id": "8fc6129e-846a-430a-b701-0a7967ee2ecc",
   "metadata": {
    "tags": []
   },
   "source": [
    "# Explore the dataset"
   ]
  },
  {
   "cell_type": "code",
   "execution_count": 5,
   "id": "413eab3e-cb02-4323-9120-a22c71ee6f31",
   "metadata": {},
   "outputs": [
    {
     "name": "stdout",
     "output_type": "stream",
     "text": [
      "<class 'pandas.core.frame.DataFrame'>\n",
      "RangeIndex: 51033 entries, 0 to 51032\n",
      "Data columns (total 3 columns):\n",
      " #   Column         Non-Null Count  Dtype \n",
      "---  ------         --------------  ----- \n",
      " 0   image          51033 non-null  object\n",
      " 1   species        51033 non-null  object\n",
      " 2   individual_id  51033 non-null  object\n",
      "dtypes: object(3)\n",
      "memory usage: 1.2+ MB\n"
     ]
    }
   ],
   "source": [
    "train_df.info()"
   ]
  },
  {
   "cell_type": "code",
   "execution_count": 6,
   "id": "89afb87d-ef07-4558-b3c6-97340a0dc457",
   "metadata": {},
   "outputs": [
    {
     "data": {
      "text/html": [
       "<div>\n",
       "<style scoped>\n",
       "    .dataframe tbody tr th:only-of-type {\n",
       "        vertical-align: middle;\n",
       "    }\n",
       "\n",
       "    .dataframe tbody tr th {\n",
       "        vertical-align: top;\n",
       "    }\n",
       "\n",
       "    .dataframe thead th {\n",
       "        text-align: right;\n",
       "    }\n",
       "</style>\n",
       "<table border=\"1\" class=\"dataframe\">\n",
       "  <thead>\n",
       "    <tr style=\"text-align: right;\">\n",
       "      <th></th>\n",
       "      <th>image</th>\n",
       "      <th>species</th>\n",
       "      <th>individual_id</th>\n",
       "    </tr>\n",
       "  </thead>\n",
       "  <tbody>\n",
       "    <tr>\n",
       "      <th>count</th>\n",
       "      <td>51033</td>\n",
       "      <td>51033</td>\n",
       "      <td>51033</td>\n",
       "    </tr>\n",
       "    <tr>\n",
       "      <th>unique</th>\n",
       "      <td>51033</td>\n",
       "      <td>30</td>\n",
       "      <td>15587</td>\n",
       "    </tr>\n",
       "    <tr>\n",
       "      <th>top</th>\n",
       "      <td>00021adfb725ed.jpg</td>\n",
       "      <td>bottlenose_dolphin</td>\n",
       "      <td>37c7aba965a5</td>\n",
       "    </tr>\n",
       "    <tr>\n",
       "      <th>freq</th>\n",
       "      <td>1</td>\n",
       "      <td>9664</td>\n",
       "      <td>400</td>\n",
       "    </tr>\n",
       "  </tbody>\n",
       "</table>\n",
       "</div>"
      ],
      "text/plain": [
       "                     image             species individual_id\n",
       "count                51033               51033         51033\n",
       "unique               51033                  30         15587\n",
       "top     00021adfb725ed.jpg  bottlenose_dolphin  37c7aba965a5\n",
       "freq                     1                9664           400"
      ]
     },
     "execution_count": 6,
     "metadata": {},
     "output_type": "execute_result"
    }
   ],
   "source": [
    "train_df.describe()"
   ]
  },
  {
   "cell_type": "code",
   "execution_count": 7,
   "id": "adb76253-3592-4223-98d4-7345164a3f76",
   "metadata": {},
   "outputs": [
    {
     "data": {
      "text/html": [
       "<div>\n",
       "<style scoped>\n",
       "    .dataframe tbody tr th:only-of-type {\n",
       "        vertical-align: middle;\n",
       "    }\n",
       "\n",
       "    .dataframe tbody tr th {\n",
       "        vertical-align: top;\n",
       "    }\n",
       "\n",
       "    .dataframe thead th {\n",
       "        text-align: right;\n",
       "    }\n",
       "</style>\n",
       "<table border=\"1\" class=\"dataframe\">\n",
       "  <thead>\n",
       "    <tr style=\"text-align: right;\">\n",
       "      <th></th>\n",
       "      <th>image</th>\n",
       "      <th>species</th>\n",
       "      <th>individual_id</th>\n",
       "    </tr>\n",
       "  </thead>\n",
       "  <tbody>\n",
       "    <tr>\n",
       "      <th>0</th>\n",
       "      <td>00021adfb725ed.jpg</td>\n",
       "      <td>melon_headed_whale</td>\n",
       "      <td>cadddb1636b9</td>\n",
       "    </tr>\n",
       "    <tr>\n",
       "      <th>1</th>\n",
       "      <td>000562241d384d.jpg</td>\n",
       "      <td>humpback_whale</td>\n",
       "      <td>1a71fbb72250</td>\n",
       "    </tr>\n",
       "    <tr>\n",
       "      <th>2</th>\n",
       "      <td>0007c33415ce37.jpg</td>\n",
       "      <td>false_killer_whale</td>\n",
       "      <td>60008f293a2b</td>\n",
       "    </tr>\n",
       "    <tr>\n",
       "      <th>3</th>\n",
       "      <td>0007d9bca26a99.jpg</td>\n",
       "      <td>bottlenose_dolphin</td>\n",
       "      <td>4b00fe572063</td>\n",
       "    </tr>\n",
       "    <tr>\n",
       "      <th>4</th>\n",
       "      <td>00087baf5cef7a.jpg</td>\n",
       "      <td>humpback_whale</td>\n",
       "      <td>8e5253662392</td>\n",
       "    </tr>\n",
       "  </tbody>\n",
       "</table>\n",
       "</div>"
      ],
      "text/plain": [
       "                image             species individual_id\n",
       "0  00021adfb725ed.jpg  melon_headed_whale  cadddb1636b9\n",
       "1  000562241d384d.jpg      humpback_whale  1a71fbb72250\n",
       "2  0007c33415ce37.jpg  false_killer_whale  60008f293a2b\n",
       "3  0007d9bca26a99.jpg  bottlenose_dolphin  4b00fe572063\n",
       "4  00087baf5cef7a.jpg      humpback_whale  8e5253662392"
      ]
     },
     "execution_count": 7,
     "metadata": {},
     "output_type": "execute_result"
    }
   ],
   "source": [
    "train_df.head()"
   ]
  },
  {
   "cell_type": "markdown",
   "id": "266ed38a-67b2-449e-a7fa-ac2dc765e6d7",
   "metadata": {
    "tags": []
   },
   "source": [
    "## List of unique species "
   ]
  },
  {
   "cell_type": "code",
   "execution_count": 8,
   "id": "adb85b8b-13e6-4d9e-b1c8-354d650173da",
   "metadata": {},
   "outputs": [],
   "source": [
    "species = train_df['species']"
   ]
  },
  {
   "cell_type": "code",
   "execution_count": 9,
   "id": "da58f557-d3d3-4d48-9e27-ce6cfd7c162e",
   "metadata": {},
   "outputs": [
    {
     "name": "stdout",
     "output_type": "stream",
     "text": [
      "['melon_headed_whale' 'humpback_whale' 'false_killer_whale'\n",
      " 'bottlenose_dolphin' 'beluga' 'minke_whale' 'fin_whale' 'blue_whale'\n",
      " 'gray_whale' 'southern_right_whale' 'common_dolphin' 'kiler_whale'\n",
      " 'pilot_whale' 'dusky_dolphin' 'killer_whale' 'long_finned_pilot_whale'\n",
      " 'sei_whale' 'spinner_dolphin' 'bottlenose_dolpin' 'cuviers_beaked_whale'\n",
      " 'spotted_dolphin' 'globis' 'brydes_whale' 'commersons_dolphin'\n",
      " 'white_sided_dolphin' 'short_finned_pilot_whale' 'rough_toothed_dolphin'\n",
      " 'pantropic_spotted_dolphin' 'pygmy_killer_whale' 'frasiers_dolphin']\n"
     ]
    }
   ],
   "source": [
    "unique_species = pd.unique(species) # returns numpy.ndarray \n",
    "print(unique_species)"
   ]
  },
  {
   "cell_type": "markdown",
   "id": "719eb393-2192-4ef7-bad5-288cf347f2b6",
   "metadata": {
    "tags": []
   },
   "source": [
    "# Whales and Dolphins"
   ]
  },
  {
   "cell_type": "code",
   "execution_count": 10,
   "id": "f839d353-a3e4-4d9c-b9d8-9f0b8c2eced2",
   "metadata": {},
   "outputs": [],
   "source": [
    "# Note that the dataset includes some typo mistakes.\n",
    "# Not sure if I should correct them or not? \n",
    "train_df['species'].replace('bottlenose_dolpin', 'bottlenose_dolphin', inplace=True)\n",
    "train_df['species'].replace('kiler_whale', 'killer_whale', inplace=True)\n",
    "\n",
    "whales = ['humpback_whale','beluga','minke_whale', 'fin_whale', 'blue_whale', 'gray_whale',\n",
    "          'southern_right_whale','sei_whale', 'cuviers_beaked_whale', 'brydes_whale']\n",
    "\n",
    "dolphins = ['melon_headed_whale','false_killer_whale', 'bottlenose_dolphin', 'common_dolphin', \n",
    "            'pilot_whale','dusky_dolphin', 'killer_whale', 'long_finned_pilot_whale',\n",
    "            'spinner_dolphin', 'bottlenose_dolpin', 'spotted_dolphin', 'globis', 'commersons_dolphin'\n",
    "            'white_sided_dolphin', 'short_finned_pilot_whale', 'rough_toothed_dolphin',\n",
    "            'pantropic_spotted_dolphin', 'frasiers_dolphin', 'pygmy_killer_whale']"
   ]
  },
  {
   "cell_type": "code",
   "execution_count": null,
   "id": "8f4ad39a-2d4f-4107-9aa7-8849025fbcb2",
   "metadata": {},
   "outputs": [],
   "source": []
  }
 ],
 "metadata": {
  "kernelspec": {
   "display_name": "Python 3 (ipykernel)",
   "language": "python",
   "name": "python3"
  },
  "language_info": {
   "codemirror_mode": {
    "name": "ipython",
    "version": 3
   },
   "file_extension": ".py",
   "mimetype": "text/x-python",
   "name": "python",
   "nbconvert_exporter": "python",
   "pygments_lexer": "ipython3",
   "version": "3.9.10"
  }
 },
 "nbformat": 4,
 "nbformat_minor": 5
}
